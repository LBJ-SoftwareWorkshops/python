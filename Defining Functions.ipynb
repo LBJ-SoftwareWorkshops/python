{
 "cells": [
  {
   "cell_type": "code",
   "execution_count": 41,
   "id": "108407e3-c371-4e01-bdf7-74db2bd451ed",
   "metadata": {},
   "outputs": [
    {
     "name": "stdout",
     "output_type": "stream",
     "text": [
      "20\n"
     ]
    }
   ],
   "source": [
    "#### Definition of a function\n",
    "\n",
    "def minimum(first, second):\n",
    "    if (first < second):\n",
    "        return first\n",
    "    else: \n",
    "        return second\n",
    "   \n",
    "num1 = 20\n",
    "\n",
    "result = minimum(num1, 40)\n",
    "print(result)"
   ]
  },
  {
   "cell_type": "code",
   "execution_count": 47,
   "id": "1f660cc9-776b-4759-827b-71afa46eac04",
   "metadata": {},
   "outputs": [
    {
     "ename": "NameError",
     "evalue": "name 'name' is not defined",
     "output_type": "error",
     "traceback": [
      "\u001b[0;31m---------------------------------------------------------------------------\u001b[0m",
      "\u001b[0;31mNameError\u001b[0m                                 Traceback (most recent call last)",
      "Cell \u001b[0;32mIn [47], line 9\u001b[0m\n\u001b[1;32m      6\u001b[0m     \u001b[38;5;28;01mreturn\u001b[39;00m name \u001b[38;5;241m+\u001b[39m name2\n\u001b[1;32m      8\u001b[0m scope_alfonso()\n\u001b[0;32m----> 9\u001b[0m \u001b[43mname\u001b[49m\n",
      "\u001b[0;31mNameError\u001b[0m: name 'name' is not defined"
     ]
    }
   ],
   "source": [
    "### Scope of the function\n",
    "\n",
    "# Example of immutability\n",
    "\n",
    "def scope_alfonso():\n",
    "    name = \"Alfonso\"\n",
    "    name2 = \" Aaron\"\n",
    "    return name + name2\n",
    "    \n",
    "scope_alfonso()\n",
    "name"
   ]
  },
  {
   "cell_type": "code",
   "execution_count": 49,
   "id": "5acd942c-0f0d-4f1e-b42f-ac01c98589b4",
   "metadata": {},
   "outputs": [
    {
     "name": "stdout",
     "output_type": "stream",
     "text": [
      "Value of num inside of the function 200\n",
      "Value of num outside of the function: 20\n"
     ]
    }
   ],
   "source": [
    "# Example of mutable data\n",
    "\n",
    "num = 20\n",
    "\n",
    "def multiply_by10(n):\n",
    "    n *= 10\n",
    "    num = n \n",
    "    print(\"Value of num inside of the function\", num)\n",
    "    return n\n",
    "\n",
    "multiply_by10(num)\n",
    "print(\"Value of num outside of the function:\", num)"
   ]
  },
  {
   "cell_type": "code",
   "execution_count": 51,
   "id": "8b312d7d-5202-4b96-92ea-f4ab919d0a59",
   "metadata": {},
   "outputs": [
    {
     "name": "stdout",
     "output_type": "stream",
     "text": [
      "[10, 20, 30, 40]\n",
      "[100, 200, 300, 400]\n"
     ]
    }
   ],
   "source": [
    "num_list = [10, 20, 30, 40]\n",
    "print(num_list)\n",
    "\n",
    "def multiply_by_10(my_list):\n",
    "    my_list[0] *= 10\n",
    "    my_list[1] *= 10\n",
    "    my_list[2] *= 10\n",
    "    my_list[3] *= 10\n",
    "    \n",
    "multiply_by_10(num_list)\n",
    "print(num_list)"
   ]
  },
  {
   "cell_type": "code",
   "execution_count": 58,
   "id": "e12748da-22ed-4e63-9be2-fde89fe6bc1b",
   "metadata": {},
   "outputs": [
    {
     "data": {
      "text/plain": [
       "-1"
      ]
     },
     "execution_count": 58,
     "metadata": {},
     "output_type": "execute_result"
    }
   ],
   "source": [
    "### Find in strings, these are functions that already exist in python\n",
    "## a_string.find(substring, start, end)\n",
    "\n",
    "alfonso_string = \"Ny name is Alfonso Rojas-Alvarez and I live in Texas\"\n",
    "alfonso_string.find(\"abc\", 15, 25)"
   ]
  },
  {
   "cell_type": "code",
   "execution_count": 64,
   "id": "a2afc0fd-2d47-4591-8df0-01a5b0659227",
   "metadata": {},
   "outputs": [
    {
     "name": "stdout",
     "output_type": "stream",
     "text": [
      "Ny name is Alfonso Rojas-Alvarez and I live in Texas\n",
      "NY NAME IS ALFONSO ROJAS-ALVAREZ AND I LIVE IN TEXAS\n"
     ]
    }
   ],
   "source": [
    "### Replace in strings\n",
    "\n",
    "upper_string = alfonso_string.upper()\n",
    "print(alfonso_string)\n",
    "print(upper_string)"
   ]
  },
  {
   "cell_type": "code",
   "execution_count": 73,
   "id": "5472aa4e-a40b-4786-b2d1-2a7b954e29ed",
   "metadata": {},
   "outputs": [
    {
     "data": {
      "text/plain": [
       "int"
      ]
     },
     "execution_count": 73,
     "metadata": {},
     "output_type": "execute_result"
    }
   ],
   "source": [
    "a = int(\"12\")\n",
    "type(a)"
   ]
  },
  {
   "cell_type": "code",
   "execution_count": 76,
   "id": "5de3e7a0-2872-48f3-bf79-f31ad40554e3",
   "metadata": {},
   "outputs": [
    {
     "name": "stdin",
     "output_type": "stream",
     "text": [
      "Name  Alfonso\n"
     ]
    },
    {
     "name": "stdout",
     "output_type": "stream",
     "text": [
      "Hello Alfonso\n"
     ]
    }
   ],
   "source": [
    "name = input(\"Name \")\n",
    "print(\"Hello\", name)"
   ]
  },
  {
   "cell_type": "code",
   "execution_count": 91,
   "id": "06053cdb-98d4-493d-aec2-bf234b68d410",
   "metadata": {},
   "outputs": [
    {
     "name": "stdout",
     "output_type": "stream",
     "text": [
      "[1200000, 18000000, 669600000, 148148146800000]\n"
     ]
    }
   ],
   "source": [
    "### Two types of loops\n",
    "# for loops\n",
    "# while loops\n",
    "\n",
    "for i in range(1, 20):  # A sequence from 1 to 10\n",
    "    if i % 2 == 0:\n",
    "        print(i, \" is even\")\n",
    "    else:\n",
    "        print(i, \" is odd\")\n"
   ]
  },
  {
   "cell_type": "code",
   "execution_count": 93,
   "id": "ca8134ac-6ad4-4d76-b668-5ed5f1507e96",
   "metadata": {},
   "outputs": [
    {
     "ename": "IndexError",
     "evalue": "list index out of range",
     "output_type": "error",
     "traceback": [
      "\u001b[0;31m---------------------------------------------------------------------------\u001b[0m",
      "\u001b[0;31mIndexError\u001b[0m                                Traceback (most recent call last)",
      "Cell \u001b[0;32mIn [93], line 2\u001b[0m\n\u001b[1;32m      1\u001b[0m \u001b[38;5;28mlen\u001b[39m(list_of_numbers)\n\u001b[0;32m----> 2\u001b[0m \u001b[43mlist_of_numbers\u001b[49m\u001b[43m[\u001b[49m\u001b[38;5;241;43m4\u001b[39;49m\u001b[43m]\u001b[49m\n",
      "\u001b[0;31mIndexError\u001b[0m: list index out of range"
     ]
    }
   ],
   "source": [
    "### We can also do it with lists\n",
    "        \n",
    "list_of_numbers = [1, 15, 558, 123456789]\n",
    "for i in range(0, len(list_of_numbers)):\n",
    "    list_of_numbers[i] = list_of_numbers[i] * 1200000\n",
    "    \n",
    "print(list_of_numbers)"
   ]
  },
  {
   "cell_type": "code",
   "execution_count": 98,
   "id": "92810a53-d267-4035-8df7-a32ddfc0939d",
   "metadata": {},
   "outputs": [
    {
     "name": "stdout",
     "output_type": "stream",
     "text": [
      "10 40\n",
      "4 46\n",
      "23 27\n",
      "27 23\n",
      "46 4\n",
      "40 10\n",
      "-30 80\n",
      "80 -30\n"
     ]
    }
   ],
   "source": [
    "n = 50\n",
    "num_list = [10, 25, 4, 23, 6, 18, 27, 47, 46, 40, -30, 80]\n",
    "\n",
    "for n1 in num_list:\n",
    "    for n2 in num_list:\n",
    "        if(n1 != n2):\n",
    "            if(n1 + n2 == n):\n",
    "                print(n1, n2)"
   ]
  },
  {
   "cell_type": "code",
   "execution_count": 3,
   "id": "5824cd4f-4862-401f-8aa2-4f2f365cd3b3",
   "metadata": {},
   "outputs": [
    {
     "name": "stdout",
     "output_type": "stream",
     "text": [
      "10\n",
      "9\n",
      "8\n",
      "7\n",
      "6\n",
      "5\n",
      "4\n",
      "3\n",
      "2\n",
      "1\n"
     ]
    }
   ],
   "source": [
    "for i in range(10,0,-1):\n",
    "    print (i)"
   ]
  },
  {
   "cell_type": "code",
   "execution_count": 21,
   "id": "d1022937-5718-4061-8655-340587a18fcc",
   "metadata": {},
   "outputs": [
    {
     "data": {
      "text/plain": [
       "493827160"
      ]
     },
     "execution_count": 21,
     "metadata": {},
     "output_type": "execute_result"
    }
   ],
   "source": [
    "def count_evens(beg, end):\n",
    "    count_num = 0\n",
    "    for i in range(beg,end):\n",
    "        if i % 2 == 0:\n",
    "            count_num += 1\n",
    "    return count_num\n",
    "        \n",
    "count_evens(1,987654321)"
   ]
  },
  {
   "cell_type": "code",
   "execution_count": 22,
   "id": "52ab5b20-2ab7-4c51-956b-8dc25af4c5cd",
   "metadata": {},
   "outputs": [
    {
     "data": {
      "text/plain": [
       "493827160"
      ]
     },
     "execution_count": 22,
     "metadata": {},
     "output_type": "execute_result"
    }
   ],
   "source": [
    "def count_evens2(beg, end):\n",
    "   return round((end - beg)/2)\n",
    "\n",
    "count_evens2(1,987654321)"
   ]
  },
  {
   "cell_type": "code",
   "execution_count": 24,
   "id": "27211dfa-4edd-49cf-9c5e-2623a2861458",
   "metadata": {},
   "outputs": [
    {
     "name": "stdout",
     "output_type": "stream",
     "text": [
      "10 15\n"
     ]
    }
   ],
   "source": [
    "a=5\n",
    "b=10\n",
    "c=a^b\n",
    "b=a^b\n",
    "a=a^b\n",
    "print(a,c)\n"
   ]
  },
  {
   "cell_type": "code",
   "execution_count": 26,
   "id": "2da9072e-a2ad-4374-b4bd-a9c0f21bd706",
   "metadata": {},
   "outputs": [
    {
     "name": "stdout",
     "output_type": "stream",
     "text": [
      "45\n"
     ]
    }
   ],
   "source": [
    "y = 5\n",
    "z = lambda x : x * y\n",
    "print(z(9))"
   ]
  },
  {
   "cell_type": "code",
   "execution_count": 28,
   "id": "608bbbeb-7c58-49c7-b286-6d20f2244ff5",
   "metadata": {},
   "outputs": [
    {
     "ename": "TypeError",
     "evalue": "'str' object cannot be interpreted as an integer",
     "output_type": "error",
     "traceback": [
      "\u001b[0;31m---------------------------------------------------------------------------\u001b[0m",
      "\u001b[0;31mTypeError\u001b[0m                                 Traceback (most recent call last)",
      "Cell \u001b[0;32mIn [28], line 2\u001b[0m\n\u001b[1;32m      1\u001b[0m my_string \u001b[38;5;241m=\u001b[39m \u001b[38;5;124m'\u001b[39m\u001b[38;5;124mEducative\u001b[39m\u001b[38;5;124m'\u001b[39m\n\u001b[0;32m----> 2\u001b[0m \u001b[38;5;28;01mfor\u001b[39;00m i \u001b[38;5;129;01min\u001b[39;00m \u001b[38;5;28;43mrange\u001b[39;49m\u001b[43m(\u001b[49m\u001b[43mmy_string\u001b[49m\u001b[43m)\u001b[49m:\n\u001b[1;32m      3\u001b[0m   \u001b[38;5;28mprint\u001b[39m(i)\n",
      "\u001b[0;31mTypeError\u001b[0m: 'str' object cannot be interpreted as an integer"
     ]
    }
   ],
   "source": [
    "my_string = 'Educative'\n",
    "for i in range(my_string):\n",
    "  print(i)\n"
   ]
  }
 ],
 "metadata": {
  "kernelspec": {
   "display_name": "Python 3 (ipykernel)",
   "language": "python",
   "name": "python3"
  },
  "language_info": {
   "codemirror_mode": {
    "name": "ipython",
    "version": 3
   },
   "file_extension": ".py",
   "mimetype": "text/x-python",
   "name": "python",
   "nbconvert_exporter": "python",
   "pygments_lexer": "ipython3",
   "version": "3.11.0"
  }
 },
 "nbformat": 4,
 "nbformat_minor": 5
}
