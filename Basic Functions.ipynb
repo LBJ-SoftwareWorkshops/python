{
 "cells": [
  {
   "cell_type": "code",
   "execution_count": 29,
   "id": "89a8625e-3b09-4d67-bb32-a9fd76fff981",
   "metadata": {},
   "outputs": [
    {
     "name": "stdout",
     "output_type": "stream",
     "text": [
      "True\n"
     ]
    }
   ],
   "source": [
    "# > Greater than\n",
    "# < Less than\n",
    "# >= Greater than or equal to\n",
    "# <= Less than or equal to\n",
    "# == Equal to\n",
    "# != Not equal to\n",
    "# 'is' Equal to (identity) \n",
    "# 'is not' Not Equal to (identity)\n",
    "\n",
    "### The result of comparison is always a boolean operator\n",
    "## True or False\n",
    "\n",
    "number1 = 5\n",
    "number2 = 10\n",
    "number3 = 10\n",
    "\n",
    "list1 = [6, 7, 8]\n",
    "list2 = [6, 7, 8]\n",
    "\n",
    "print(list1 is not list2)"
   ]
  },
  {
   "cell_type": "code",
   "execution_count": 1,
   "id": "360d8327-ec11-4895-a15c-fdfde89dab4b",
   "metadata": {},
   "outputs": [
    {
     "name": "stdout",
     "output_type": "stream",
     "text": [
      "10\n",
      "110\n"
     ]
    }
   ],
   "source": [
    "### Assignment Operators\n",
    "\n",
    "number = 10\n",
    "print(number)\n",
    "\n",
    "number += 100\n",
    "print(number)"
   ]
  },
  {
   "cell_type": "code",
   "execution_count": 53,
   "id": "2ece2a01-91cc-4ee8-853a-ab2144c67415",
   "metadata": {},
   "outputs": [
    {
     "name": "stdout",
     "output_type": "stream",
     "text": [
      "True\n"
     ]
    }
   ],
   "source": [
    "### Logical Expressions\n",
    "\n",
    "# and\n",
    "# or\n",
    "# not\n",
    "\n",
    "boolean = False\n",
    "print(not boolean)"
   ]
  },
  {
   "cell_type": "code",
   "execution_count": 2,
   "id": "6de0a054-7216-4c4a-90fe-81ff55f16941",
   "metadata": {},
   "outputs": [
    {
     "name": "stdout",
     "output_type": "stream",
     "text": [
      "True\n"
     ]
    }
   ],
   "source": [
    "### String Operations\n",
    "\n",
    "state = \"Texas\"\n",
    "another_state = \"Texas\"\n",
    "third_state = \"Oklahoma\"\n",
    "\n",
    "print(state > third_state)\n"
   ]
  },
  {
   "cell_type": "code",
   "execution_count": 69,
   "id": "580e227b-cfd7-47d5-bb76-af7d29464877",
   "metadata": {},
   "outputs": [
    {
     "name": "stdout",
     "output_type": "stream",
     "text": [
      "hahahahahahahahahahahahahahahahahahahaha\n"
     ]
    }
   ],
   "source": [
    "### Concatenation\n",
    "\n",
    "name = \"alfonso\"\n",
    "last_name = \" rojas-alvarez\"\n",
    "\n",
    "full_name = name + last_name\n",
    "#print(full_name)\n",
    "\n",
    "laugh = \"ha\" * 20\n",
    "print(laugh)"
   ]
  },
  {
   "cell_type": "code",
   "execution_count": 76,
   "id": "171f1e78-0d9d-4ef8-9e61-138e320bb0ec",
   "metadata": {},
   "outputs": [
    {
     "name": "stdout",
     "output_type": "stream",
     "text": [
      "True\n",
      "False\n"
     ]
    }
   ],
   "source": [
    "#### Search in strings\n",
    "\n",
    "states_string = \"Texas Oklahoma Washington Hawaii Pennsylvania Florida\"\n",
    "print(\"Texas\" in states_string)\n",
    "print(\"!\" in states_string)"
   ]
  },
  {
   "cell_type": "code",
   "execution_count": 81,
   "id": "7d18758b-f250-403b-bbf5-4bf3f85999b2",
   "metadata": {},
   "outputs": [
    {
     "name": "stdout",
     "output_type": "stream",
     "text": [
      "[(15, 16, 17), 10000, 'Alfonso Rojas-Alvarez', 3.5, True]\n"
     ]
    },
    {
     "data": {
      "text/plain": [
       "5"
      ]
     },
     "execution_count": 81,
     "metadata": {},
     "output_type": "execute_result"
    }
   ],
   "source": [
    "### Lists\n",
    "\n",
    "alfonso_data = [(15, 16, 17), 10000, \"Alfonso Rojas-Alvarez\", 3.5, True]\n",
    "print(alfonso_data)\n",
    "len(alfonso_data)"
   ]
  },
  {
   "cell_type": "code",
   "execution_count": 83,
   "id": "6f60ffa2-4d9e-40cd-81fc-d30cdb530999",
   "metadata": {},
   "outputs": [
    {
     "name": "stdout",
     "output_type": "stream",
     "text": [
      "3.320163302951389e+21\n"
     ]
    }
   ],
   "source": [
    "### Gravitational Force Computation Exercise\n",
    "\n",
    "G = 6.67 * (10 ** -11)\n",
    "M = 6.0 * (10 ** 24)  # Mass of Earth\n",
    "m = 7.34 * (10 ** 22)  # Mass of the moon\n",
    "r = 3.84 * (10 ** 8)\n",
    "\n",
    "grav_force = (G * M * m) / (r ** 2)\n",
    "\n",
    "print(grav_force)"
   ]
  },
  {
   "cell_type": "code",
   "execution_count": 115,
   "id": "fc27fdc3-058a-4be3-9142-fd5ac638c3d0",
   "metadata": {},
   "outputs": [
    {
     "name": "stdout",
     "output_type": "stream",
     "text": [
      "This is a minor, this person can't buy alcohol\n",
      "This is a minor, this person can't buy alcohol\n"
     ]
    },
    {
     "data": {
      "text/plain": [
       "'number'"
      ]
     },
     "execution_count": 116,
     "metadata": {},
     "output_type": "execute_result"
    }
   ],
   "source": [
    "### Conditional Statements\n",
    "\n",
    "# if statements\n",
    "number = 50\n",
    "\n",
    "if number >= 0 and number <= 100:\n",
    "    if number >= 50 and number <= 75:\n",
    "        if number >= 60 and number <= 70:\n",
    "            print(\"The number is between 60 and 70\") \n",
    "            \n",
    "# if-else statements\n",
    "\n",
    "age = 14\n",
    "\n",
    "if age >= 21:\n",
    "    print(\"This is person can buy alcohol\") \n",
    "else: \n",
    "    print(\"This is a minor, this person can't buy alcohol\") \n",
    "    \n",
    "### Same statement written in just ifs\n",
    "\n",
    "if age >= 21:\n",
    "    print(\"This is person can buy alcohol\") \n",
    "if age < 21:\n",
    "    print(\"This is a minor, this person can't buy alcohol\") \n",
    "\n",
    "output_value = 5\n",
    "condition = output_value > 10\n",
    "other_output_value = \"number\"\n",
    "\n",
    "output_value if condition else other_output_value\n",
    "\n"
   ]
  },
  {
   "cell_type": "code",
   "execution_count": 120,
   "id": "0a56733d-64e0-48c7-9375-f0e3c4069657",
   "metadata": {},
   "outputs": [
    {
     "name": "stdout",
     "output_type": "stream",
     "text": [
      "Incorrect signal color\n"
     ]
    }
   ],
   "source": [
    "### if-elif-else statement\n",
    "\n",
    "light = \"Maroon\"\n",
    "\n",
    "if light == \"Green\":\n",
    "    print(\"Free to go\")\n",
    "    \n",
    "elif light == \"Yellow\":\n",
    "    print(\"Start breaking if you can if not keep going\")\n",
    "\n",
    "elif light == \"Red\":\n",
    "    print(\"Stop\")\n",
    "    \n",
    "else:    print(\"Incorrect signal color\") "
   ]
  },
  {
   "cell_type": "code",
   "execution_count": 130,
   "id": "00ba4d64-1e07-4fa4-832b-506d0a05dee4",
   "metadata": {},
   "outputs": [
    {
     "name": "stdout",
     "output_type": "stream",
     "text": [
      "This number is odd\n"
     ]
    }
   ],
   "source": [
    "### Example of if and multiple conditions\n",
    "\n",
    "number = 5\n",
    "\n",
    "if number > 5:\n",
    "    print(\"This number is higher than 5\")\n",
    "\n",
    "if number % 2 == 0:\n",
    "    print(\"This number is even\")\n",
    "    \n",
    "if not number % 2 == 0:\n",
    "    print(\"This number is odd\") "
   ]
  },
  {
   "cell_type": "code",
   "execution_count": 131,
   "id": "50ba7fb2-00ab-4d48-91e9-77fe7a0d11cf",
   "metadata": {},
   "outputs": [
    {
     "name": "stdout",
     "output_type": "stream",
     "text": [
      "This number is odd and less than or equal to 5\n"
     ]
    }
   ],
   "source": [
    "### Same example as above but with if-elif-eles\n",
    "\n",
    "number = 5\n",
    "\n",
    "if number > 5:\n",
    "    print(\"This number is higher than 5\") \n",
    "    \n",
    "elif number % 2 == 0:\n",
    "    print(\"This number is even\")\n",
    "    \n",
    "else:\n",
    "    print(\"This number is odd and less than or equal to 5\") "
   ]
  }
 ],
 "metadata": {
  "kernelspec": {
   "display_name": "Python 3 (ipykernel)",
   "language": "python",
   "name": "python3"
  },
  "language_info": {
   "codemirror_mode": {
    "name": "ipython",
    "version": 3
   },
   "file_extension": ".py",
   "mimetype": "text/x-python",
   "name": "python",
   "nbconvert_exporter": "python",
   "pygments_lexer": "ipython3",
   "version": "3.11.0"
  }
 },
 "nbformat": 4,
 "nbformat_minor": 5
}
